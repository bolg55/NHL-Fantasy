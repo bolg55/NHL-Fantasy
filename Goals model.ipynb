{
 "cells": [
  {
   "cell_type": "code",
   "execution_count": null,
   "id": "930ddae9",
   "metadata": {},
   "outputs": [],
   "source": [
    "import pandas as pd\n",
    "import pymysql\n",
    "from sqlalchemy import create_engine\n",
    "import xgboost as xgb\n",
    "from sklearn.model_selection import RandomizedSearchCV\n",
    "from sklearn.model_selection import train_test_split\n",
    "from sklearn.preprocessing import RobustScaler\n",
    "from sklearn.compose import ColumnTransformer\n",
    "from sklearn.preprocessing import StandardScaler, OneHotEncoder, RobustScaler\n",
    "from sklearn.pipeline import Pipeline\n",
    "from sklearn.metrics import mean_absolute_error, r2_score\n",
    "import joblib"
   ]
  },
  {
   "cell_type": "code",
   "execution_count": null,
   "id": "95f51962",
   "metadata": {},
   "outputs": [],
   "source": [
    "username = \"root\"\n",
    "password = \"Sp1d3rman\"\n",
    "host = \"localhost\"\n",
    "port = \"3306\"\n",
    "database = \"nhl_optimizer\"\n",
    "\n",
    "engine = create_engine(f\"mysql+pymysql://{username}:{password}@{host}:{port}/{database}\")"
   ]
  },
  {
   "cell_type": "code",
   "execution_count": null,
   "id": "8befad53",
   "metadata": {},
   "outputs": [],
   "source": [
    "query = \"SELECT * FROM player_data\"\n",
    "\n",
    "df = pd.read_sql(query,engine)\n",
    "print(df.columns)"
   ]
  },
  {
   "cell_type": "code",
   "execution_count": null,
   "id": "7c75fa7a",
   "metadata": {},
   "outputs": [],
   "source": [
    "# features_to_exclude = [\n",
    "#      'SH%','Rebounds Created/60','Faceoffs %'\n",
    "# ]\n",
    "\n",
    "features_to_exclude = [\n",
    "    'SH%', 'iCF/60',\n",
    "     'iSCF/60','Rebounds Created/60','Faceoffs %'\n",
    "]"
   ]
  },
  {
   "cell_type": "code",
   "execution_count": null,
   "id": "f56c4047",
   "metadata": {},
   "outputs": [],
   "source": [
    "X = df.drop(columns=['Player','Goals/60', 'Total Assists/60', 'First Assists/60', 'Second Assists/60', 'Total Points/60'] + features_to_exclude )\n",
    "\n",
    "y = df['Goals/60']\n",
    "\n",
    "numeric_features = X.select_dtypes(include=['int64', 'float64']).columns.tolist()\n",
    "categorical_features = ['Position']\n",
    "\n",
    "preprocessor = ColumnTransformer(\n",
    "    transformers=[\n",
    "        ('num', RobustScaler(), numeric_features),\n",
    "        ('cat', OneHotEncoder(handle_unknown='ignore'), categorical_features)\n",
    "    ])\n",
    "\n",
    "# Split data\n",
    "X_train, X_test, y_train, y_test = train_test_split(X, y, test_size=0.2, random_state=42)"
   ]
  },
  {
   "cell_type": "code",
   "execution_count": null,
   "id": "565558b1",
   "metadata": {},
   "outputs": [],
   "source": [
    "# Create a pipeline\n",
    "goals_pipeline = Pipeline(steps=[\n",
    "    ('preprocessor', preprocessor),\n",
    "    ('regressor', xgb.XGBRegressor(objective='reg:squarederror', random_state=42))\n",
    "])\n",
    "\n",
    "# Define hyperparameters for tuning\n",
    "param_dist = {\n",
    "    'regressor__n_estimators': [100, 200, 300],\n",
    "    'regressor__learning_rate': [0.01, 0.05, 0.1],\n",
    "    'regressor__max_depth': [3, 5, 7],\n",
    "    'regressor__subsample': [0.7, 0.8, 0.9],\n",
    "    'regressor__colsample_bytree': [0.7, 0.8, 0.9],\n",
    "    'regressor__reg_alpha': [0, 0.1, 1],\n",
    "    'regressor__reg_lambda': [1, 1.5, 2]\n",
    "}\n",
    "\n",
    "# Randomized search\n",
    "random_search_xgb = RandomizedSearchCV(\n",
    "    goals_pipeline, param_distributions=param_dist,\n",
    "    n_iter=50, cv=5, scoring='neg_mean_absolute_error',\n",
    "    random_state=42, n_jobs=-1\n",
    ")\n",
    "random_search_xgb.fit(X_train, y_train)\n",
    "\n",
    "# Best parameters and score\n",
    "print(f\"Best parameters: {random_search_xgb.best_params_}\")\n",
    "print(f\"Best MAE: {-random_search_xgb.best_score_}\")\n",
    "\n",
    "# Evaluate on test set\n",
    "y_pred_xgb = random_search_xgb.predict(X_test)\n",
    "mae_xgb = mean_absolute_error(y_test, y_pred_xgb)\n",
    "r2_xgb = r2_score(y_test, y_pred_xgb)\n",
    "\n",
    "print(f\"XGBoost Test Set MAE: {mae_xgb}\")\n",
    "print(f\"XGBoost Test Set R^2: {r2_xgb}\")"
   ]
  },
  {
   "cell_type": "code",
   "execution_count": null,
   "id": "d732c967",
   "metadata": {},
   "outputs": [],
   "source": [
    "# Save the pipeline\n",
    "joblib.dump(random_search_xgb.best_estimator_, 'goals_model.pkl')"
   ]
  }
 ],
 "metadata": {
  "kernelspec": {
   "display_name": "Python 3 (ipykernel)",
   "language": "python",
   "name": "python3"
  },
  "language_info": {
   "codemirror_mode": {
    "name": "ipython",
    "version": 3
   },
   "file_extension": ".py",
   "mimetype": "text/x-python",
   "name": "python",
   "nbconvert_exporter": "python",
   "pygments_lexer": "ipython3",
   "version": "3.10.16"
  }
 },
 "nbformat": 4,
 "nbformat_minor": 5
}
