{
 "cells": [
  {
   "cell_type": "code",
   "execution_count": 1,
   "id": "41deb41f",
   "metadata": {},
   "outputs": [],
   "source": [
    "## Scrape player data from NST and add to CSV/DB - not really needed in-season.\n",
    "\n",
    "# # Initialize empty list\n",
    "# data_frames = []\n",
    "\n",
    "# dates = [2018,2019,2020,2021,2022,2023]\n",
    "# combined_dates = []\n",
    "\n",
    "# for i in range(len(dates)-1):\n",
    "#     combined = str(dates[i]) + str(dates[i+1])\n",
    "#     combined_dates.append(combined)\n",
    "\n",
    "\n",
    "\n",
    "\n",
    "# # Constants\n",
    "# today = pd.Timestamp(\"today\").floor(\"D\")\n",
    "# end_date = all_dates[-1]\n",
    "\n",
    "# for date in combined_dates:\n",
    "#     try:\n",
    "#         nhl_url = f'https://naturalstattrick.com/playerteams.php?fromseason={date}&thruseason={date}&stype=2&sit=all&score=all&stdoi=std&rate=y&team=ALL&pos=S&loc=B&toi=200&gpfilt=none&fd=&td=&tgp=410&lines=single&draftteam=ALL'\n",
    "#         nhl_dfs = pd.read_html(nhl_url, index_col=0)\n",
    "#         nhl_df = nhl_dfs[0]\n",
    "#         nhl_df['Date'] = date\n",
    "\n",
    "#         # Append data to list\n",
    "#         data_frames.append(nhl_df)\n",
    "\n",
    "#         # Sleep to avoid rate limits\n",
    "#         sleep(randint(10,25))\n",
    "\n",
    "#     except Exception as e:\n",
    "#         print(f\"Error for date {date}. Error message: {e}\")\n",
    "\n",
    "#     print(f\"Data fetched for {date}\")\n",
    "\n",
    "# # Concatenate all data frames\n",
    "# all_data = pd.concat(data_frames, ignore_index=True)\n",
    "\n",
    "# print(\"Scraping Complete\")\n",
    "\n",
    "\n",
    "## TO CSV\n",
    "# all_data.to_csv('player_stats.csv', index=False)\n",
    "\n",
    "\n",
    "## TO DB (must create db connection first)\n",
    "# data.to_sql('player_data', engine, if_exists='append',index=False)\n"
   ]
  },
  {
   "cell_type": "code",
   "execution_count": null,
   "id": "badb7f32",
   "metadata": {},
   "outputs": [],
   "source": []
  }
 ],
 "metadata": {
  "kernelspec": {
   "display_name": "Python 3 (ipykernel)",
   "language": "python",
   "name": "python3"
  },
  "language_info": {
   "codemirror_mode": {
    "name": "ipython",
    "version": 3
   },
   "file_extension": ".py",
   "mimetype": "text/x-python",
   "name": "python",
   "nbconvert_exporter": "python",
   "pygments_lexer": "ipython3",
   "version": "3.11.4"
  }
 },
 "nbformat": 4,
 "nbformat_minor": 5
}
