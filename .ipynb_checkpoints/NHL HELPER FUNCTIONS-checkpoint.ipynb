{
 "cells": [
  {
   "cell_type": "code",
   "execution_count": 8,
   "id": "badb7f32",
   "metadata": {},
   "outputs": [],
   "source": [
    "import pandas as pd\n",
    "from time import sleep\n",
    "from random import randint\n",
    "import pymysql\n",
    "from sqlalchemy import create_engine"
   ]
  },
  {
   "cell_type": "code",
   "execution_count": 9,
   "id": "35653973",
   "metadata": {},
   "outputs": [],
   "source": [
    "## CONNECT TO DATABASE\n",
    "username = \"root\"\n",
    "password = \"Sp1d3rman\"\n",
    "host = \"localhost\"\n",
    "port = \"3306\"\n",
    "database = \"nhl_optimizer\"\n",
    "\n",
    "engine = create_engine(f\"mysql+pymysql://{username}:{password}@{host}:{port}/{database}\")"
   ]
  },
  {
   "cell_type": "code",
   "execution_count": 10,
   "id": "41deb41f",
   "metadata": {},
   "outputs": [
    {
     "name": "stdout",
     "output_type": "stream",
     "text": [
      "Data fetched for 20192020\n",
      "Data fetched for 20202021\n",
      "Data fetched for 20212022\n",
      "Data fetched for 20222023\n",
      "Data fetched for 20232024\n",
      "Scraping Complete\n"
     ]
    },
    {
     "ename": "NameError",
     "evalue": "name 'data' is not defined",
     "output_type": "error",
     "traceback": [
      "\u001b[0;31m---------------------------------------------------------------------------\u001b[0m",
      "\u001b[0;31mNameError\u001b[0m                                 Traceback (most recent call last)",
      "Cell \u001b[0;32mIn[10], line 50\u001b[0m\n\u001b[1;32m     42\u001b[0m \u001b[38;5;28mprint\u001b[39m(\u001b[38;5;124m\"\u001b[39m\u001b[38;5;124mScraping Complete\u001b[39m\u001b[38;5;124m\"\u001b[39m)\n\u001b[1;32m     45\u001b[0m \u001b[38;5;66;03m## TO CSV\u001b[39;00m\n\u001b[1;32m     46\u001b[0m \u001b[38;5;66;03m# all_data.to_csv('player_stats.csv', index=False)\u001b[39;00m\n\u001b[1;32m     47\u001b[0m \n\u001b[1;32m     48\u001b[0m \n\u001b[1;32m     49\u001b[0m \u001b[38;5;66;03m## TO DB (must create db connection first)\u001b[39;00m\n\u001b[0;32m---> 50\u001b[0m \u001b[43mdata\u001b[49m\u001b[38;5;241m.\u001b[39mto_sql(\u001b[38;5;124m'\u001b[39m\u001b[38;5;124mplayer_data\u001b[39m\u001b[38;5;124m'\u001b[39m, engine, if_exists\u001b[38;5;241m=\u001b[39m\u001b[38;5;124m'\u001b[39m\u001b[38;5;124mappend\u001b[39m\u001b[38;5;124m'\u001b[39m,index\u001b[38;5;241m=\u001b[39m\u001b[38;5;28;01mFalse\u001b[39;00m)\n",
      "\u001b[0;31mNameError\u001b[0m: name 'data' is not defined"
     ]
    }
   ],
   "source": [
    "## Scrape player data from NST and add to CSV/DB - not really needed in-season.\n",
    "\n",
    "\n",
    "## Initialize empty list\n",
    "data_frames = []\n",
    "\n",
    "dates = [2019,2020,2021,2022,2023,2024]\n",
    "combined_dates = []\n",
    "\n",
    "for i in range(len(dates)-1):\n",
    "    combined = str(dates[i]) + str(dates[i+1])\n",
    "    combined_dates.append(combined)\n",
    "\n",
    "\n",
    "\n",
    "\n",
    "## Constants\n",
    "# today = pd.Timestamp(\"today\").floor(\"D\")\n",
    "# end_date = all_dates[-1]\n",
    "\n",
    "for date in combined_dates:\n",
    "    try:\n",
    "        nhl_url = f'https://naturalstattrick.com/playerteams.php?fromseason={date}&thruseason={date}&stype=2&sit=all&score=all&stdoi=std&rate=y&team=ALL&pos=S&loc=B&toi=200&gpfilt=none&fd=&td=&tgp=410&lines=single&draftteam=ALL'\n",
    "        nhl_dfs = pd.read_html(nhl_url, index_col=0)\n",
    "        nhl_df = nhl_dfs[0]\n",
    "        nhl_df['Date'] = date\n",
    "\n",
    "        # Append data to list\n",
    "        data_frames.append(nhl_df)\n",
    "\n",
    "        # Sleep to avoid rate limits\n",
    "        sleep(randint(10,25))\n",
    "\n",
    "    except Exception as e:\n",
    "        print(f\"Error for date {date}. Error message: {e}\")\n",
    "\n",
    "    print(f\"Data fetched for {date}\")\n",
    "\n",
    "# Concatenate all data frames\n",
    "all_data = pd.concat(data_frames, ignore_index=True)\n",
    "\n",
    "print(\"Scraping Complete\")\n",
    "\n",
    "\n",
    "## TO CSV\n",
    "# all_data.to_csv('player_stats.csv', index=False)\n",
    "\n",
    "\n",
    "## TO DB (must create db connection first)\n",
    "all_data.to_sql('player_data', engine, if_exists='append',index=False)\n"
   ]
  }
 ],
 "metadata": {
  "kernelspec": {
   "display_name": "Python 3 (ipykernel)",
   "language": "python",
   "name": "python3"
  },
  "language_info": {
   "codemirror_mode": {
    "name": "ipython",
    "version": 3
   },
   "file_extension": ".py",
   "mimetype": "text/x-python",
   "name": "python",
   "nbconvert_exporter": "python",
   "pygments_lexer": "ipython3",
   "version": "3.10.9"
  }
 },
 "nbformat": 4,
 "nbformat_minor": 5
}
